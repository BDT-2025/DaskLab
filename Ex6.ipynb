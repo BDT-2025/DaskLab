{
 "cells": [
  {
   "cell_type": "code",
   "execution_count": null,
   "id": "930fc120-471a-4adb-9082-f22aadeabae7",
   "metadata": {},
   "outputs": [],
   "source": [
    "import dask.dataframe as dd\n",
    "import dask.bag as da\n",
    "import os\n",
    "import json\n",
    "import dask\n",
    "\n",
    "from dask.distributed import LocalCluster\n",
    "cluster = LocalCluster()          # Fully-featured local Dask cluster\n",
    "client = cluster.get_client()"
   ]
  },
  {
   "cell_type": "code",
   "execution_count": null,
   "id": "69d2a77f-0531-4396-87a8-0a9d96a952a2",
   "metadata": {},
   "outputs": [],
   "source": [
    "cluster.dashboard_link"
   ]
  }
 ],
 "metadata": {
  "kernelspec": {
   "display_name": "Python 3 (ipykernel)",
   "language": "python",
   "name": "python3"
  },
  "language_info": {
   "codemirror_mode": {
    "name": "ipython",
    "version": 3
   },
   "file_extension": ".py",
   "mimetype": "text/x-python",
   "name": "python",
   "nbconvert_exporter": "python",
   "pygments_lexer": "ipython3",
   "version": "3.11.7"
  }
 },
 "nbformat": 4,
 "nbformat_minor": 5
}
